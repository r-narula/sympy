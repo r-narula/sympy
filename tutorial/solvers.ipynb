{
 "metadata": {
  "language_info": {
   "codemirror_mode": {
    "name": "ipython",
    "version": 3
   },
   "file_extension": ".py",
   "mimetype": "text/x-python",
   "name": "python",
   "nbconvert_exporter": "python",
   "pygments_lexer": "ipython3",
   "version": "3.8.2-final"
  },
  "orig_nbformat": 2,
  "kernelspec": {
   "name": "python3",
   "display_name": "Python 3"
  }
 },
 "nbformat": 4,
 "nbformat_minor": 2,
 "cells": [
  {
   "cell_type": "code",
   "execution_count": 1,
   "metadata": {},
   "outputs": [],
   "source": [
    "from sympy import *\n",
    "init_printing(use_unicode=True)"
   ]
  },
  {
   "cell_type": "code",
   "execution_count": 2,
   "metadata": {},
   "outputs": [],
   "source": [
    "x,y,z = symbols('x y z')"
   ]
  },
  {
   "cell_type": "code",
   "execution_count": 3,
   "metadata": {},
   "outputs": [
    {
     "output_type": "execute_result",
     "data": {
      "text/plain": [
       "x = y"
      ],
      "text/latex": "$\\displaystyle x = y$"
     },
     "metadata": {},
     "execution_count": 3
    }
   ],
   "source": [
    "# remember that to print x = y or x == y we have to do Eq(x,y)\n",
    "Eq(x,y)"
   ]
  },
  {
   "cell_type": "code",
   "execution_count": 4,
   "metadata": {},
   "outputs": [
    {
     "output_type": "execute_result",
     "data": {
      "text/plain": [
       "[-ⅈ, ⅈ]"
      ],
      "text/latex": "$\\displaystyle \\left[ - i, \\  i\\right]$"
     },
     "metadata": {},
     "execution_count": 4
    }
   ],
   "source": [
    "# any expression not equal to 0 is assumed to be equal to zero . This means that a\n",
    "solve(x**2 + 1)"
   ]
  },
  {
   "cell_type": "code",
   "execution_count": 5,
   "metadata": {},
   "outputs": [
    {
     "output_type": "execute_result",
     "data": {
      "text/plain": [
       "{-ⅈ, ⅈ}"
      ],
      "text/latex": "$\\displaystyle \\left\\{- i, i\\right\\}$"
     },
     "metadata": {},
     "execution_count": 5
    }
   ],
   "source": [
    "solveset(x**2 + 1)"
   ]
  },
  {
   "source": [
    "Remember to use the solveset rather than solve as the solveset gives the answer in the set form and the sympy has various functions that are in set form."
   ],
   "cell_type": "markdown",
   "metadata": {}
  },
  {
   "cell_type": "code",
   "execution_count": 6,
   "metadata": {},
   "outputs": [
    {
     "output_type": "execute_result",
     "data": {
      "text/plain": [
       "{0, 1}"
      ],
      "text/latex": "$\\displaystyle \\left\\{0, 1\\right\\}$"
     },
     "metadata": {},
     "execution_count": 6
    }
   ],
   "source": [
    "# solveset(equation,variable=None,domain=S.complexes)\n",
    "solveset(x**2 - x, x)"
   ]
  },
  {
   "cell_type": "code",
   "execution_count": 7,
   "metadata": {},
   "outputs": [
    {
     "output_type": "execute_result",
     "data": {
      "text/plain": [
       "⎧        π        ⎫\n",
       "⎨2⋅n⋅π + ─ | n ∊ ℤ⎬\n",
       "⎩        2        ⎭"
      ],
      "text/latex": "$\\displaystyle \\left\\{2 n \\pi + \\frac{\\pi}{2}\\; |\\; n \\in \\mathbb{Z}\\right\\}$"
     },
     "metadata": {},
     "execution_count": 7
    }
   ],
   "source": [
    "solveset(sin(x) - 1,x)"
   ]
  },
  {
   "cell_type": "code",
   "execution_count": 8,
   "metadata": {},
   "outputs": [
    {
     "output_type": "execute_result",
     "data": {
      "text/plain": [
       "∅"
      ],
      "text/latex": "$\\displaystyle \\emptyset$"
     },
     "metadata": {},
     "execution_count": 8
    }
   ],
   "source": [
    "solveset(exp(x),x)"
   ]
  },
  {
   "cell_type": "code",
   "execution_count": 9,
   "metadata": {},
   "outputs": [
    {
     "output_type": "execute_result",
     "data": {
      "text/plain": [
       "{(-y - 1, y, 2)}"
      ],
      "text/latex": "$\\displaystyle \\left\\{\\left( - y - 1, \\  y, \\  2\\right)\\right\\}$"
     },
     "metadata": {},
     "execution_count": 9
    }
   ],
   "source": [
    "linsolve([x + y + z - 1,x + y + 2*z - 3],(x,y,z)) # multiple equations for linsolve"
   ]
  },
  {
   "cell_type": "code",
   "execution_count": 10,
   "metadata": {},
   "outputs": [],
   "source": [
    "M = Matrix(((1,1,1,1),(1,1,2,3)))  # x+y+z = 1 and X+y+2z = 3"
   ]
  },
  {
   "cell_type": "code",
   "execution_count": 27,
   "metadata": {},
   "outputs": [
    {
     "output_type": "execute_result",
     "data": {
      "text/plain": [
       "{(-y - 1, y, 2)}"
      ],
      "text/latex": "$\\displaystyle \\left\\{\\left( - y - 1, \\  y, \\  2\\right)\\right\\}$"
     },
     "metadata": {},
     "execution_count": 27
    }
   ],
   "source": [
    "system = A,b = M[:,:-1],M[:,-1]\n",
    "linsolve(system,x,y,z)"
   ]
  },
  {
   "cell_type": "code",
   "execution_count": 12,
   "metadata": {},
   "outputs": [
    {
     "output_type": "execute_result",
     "data": {
      "text/plain": [
       "{(-1, -1), (0, 0)}"
      ],
      "text/latex": "$\\displaystyle \\left\\{\\left( -1, \\  -1\\right), \\left( 0, \\  0\\right)\\right\\}$"
     },
     "metadata": {},
     "execution_count": 12
    }
   ],
   "source": [
    "# for non-linear system of equations we would be using the nonlinesolve..\n",
    "a,b,c,d = symbols('a b c d',real=True) # incase of only real solution..\n",
    "nonlinsolve([a**2 + a , a - b],(a,b))\n"
   ]
  },
  {
   "cell_type": "code",
   "execution_count": 13,
   "metadata": {},
   "outputs": [
    {
     "output_type": "execute_result",
     "data": {
      "text/plain": [
       "{(-ⅈ, -ⅈ), (-ⅈ, ⅈ), (ⅈ, -ⅈ), (ⅈ, ⅈ)}"
      ],
      "text/latex": "$\\displaystyle \\left\\{\\left( - i, \\  - i\\right), \\left( - i, \\  i\\right), \\left( i, \\  - i\\right), \\left( i, \\  i\\right)\\right\\}$"
     },
     "metadata": {},
     "execution_count": 13
    }
   ],
   "source": [
    "nonlinsolve([x**2 + 1 , y**2 + 1],[x,y])"
   ]
  },
  {
   "cell_type": "code",
   "execution_count": 24,
   "metadata": {},
   "outputs": [
    {
     "output_type": "execute_result",
     "data": {
      "text/plain": [
       "{(-2, -1), (2, 1), (-√2⋅ⅈ, √2⋅ⅈ), (√2⋅ⅈ, -√2⋅ⅈ)}"
      ],
      "text/latex": "$\\displaystyle \\left\\{\\left( -2, \\  -1\\right), \\left( 2, \\  1\\right), \\left( - \\sqrt{2} i, \\  \\sqrt{2} i\\right), \\left( \\sqrt{2} i, \\  - \\sqrt{2} i\\right)\\right\\}$"
     },
     "metadata": {},
     "execution_count": 24
    }
   ],
   "source": [
    "# from sympy import sqrt\n",
    "x,y,z = symbols('x y z',real= True)\n",
    "system = [x**2 - 2*y**2 -2 , x*y - 2]\n",
    "vars = [x,y]\n",
    "nonlinsolve(system,vars)"
   ]
  },
  {
   "cell_type": "code",
   "execution_count": 15,
   "metadata": {},
   "outputs": [],
   "source": [
    "# Solving the diffential equations\n",
    "f,g = symbols('f g',cls=Function)"
   ]
  },
  {
   "cell_type": "code",
   "execution_count": 16,
   "metadata": {},
   "outputs": [
    {
     "output_type": "execute_result",
     "data": {
      "text/plain": [
       "f(x) = sin(x)"
      ],
      "text/latex": "$\\displaystyle f{\\left(x \\right)} = \\sin{\\left(x \\right)}$"
     },
     "metadata": {},
     "execution_count": 16
    }
   ],
   "source": [
    "Eq(f(x),sin(x))"
   ]
  },
  {
   "cell_type": "code",
   "execution_count": 17,
   "metadata": {},
   "outputs": [],
   "source": [
    "# f''(x) - 2*f(x) + f(x)\n",
    "diff = Eq(diff(f(x),x,x) - 2*diff(f(x),x) + f(x),sin(x))"
   ]
  },
  {
   "cell_type": "code",
   "execution_count": 18,
   "metadata": {},
   "outputs": [
    {
     "output_type": "stream",
     "name": "stdout",
     "text": [
      "<class 'sympy.core.function.Derivative'>\n"
     ]
    }
   ],
   "source": [
    "print(type(f(x).diff(x)))"
   ]
  },
  {
   "cell_type": "code",
   "execution_count": 21,
   "metadata": {},
   "outputs": [
    {
     "output_type": "execute_result",
     "data": {
      "text/plain": [
       "                      2               \n",
       "         d           d                \n",
       "f(x) - 2⋅──(f(x)) + ───(f(x)) = sin(x)\n",
       "         dx           2               \n",
       "                    dx                "
      ],
      "text/latex": "$\\displaystyle f{\\left(x \\right)} - 2 \\frac{d}{d x} f{\\left(x \\right)} + \\frac{d^{2}}{d x^{2}} f{\\left(x \\right)} = \\sin{\\left(x \\right)}$"
     },
     "metadata": {},
     "execution_count": 21
    }
   ],
   "source": [
    "diff"
   ]
  },
  {
   "cell_type": "code",
   "execution_count": 23,
   "metadata": {},
   "outputs": [
    {
     "output_type": "execute_result",
     "data": {
      "text/plain": [
       "                    x   cos(x)\n",
       "f(x) = (C₁ + C₂⋅x)⋅ℯ  + ──────\n",
       "                          2   "
      ],
      "text/latex": "$\\displaystyle f{\\left(x \\right)} = \\left(C_{1} + C_{2} x\\right) e^{x} + \\frac{\\cos{\\left(x \\right)}}{2}$"
     },
     "metadata": {},
     "execution_count": 23
    }
   ],
   "source": [
    "dsolve(diff,f(x))"
   ]
  },
  {
   "cell_type": "code",
   "execution_count": null,
   "metadata": {},
   "outputs": [],
   "source": []
  }
 ]
}