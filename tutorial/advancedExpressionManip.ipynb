{
 "metadata": {
  "language_info": {
   "codemirror_mode": {
    "name": "ipython",
    "version": 3
   },
   "file_extension": ".py",
   "mimetype": "text/x-python",
   "name": "python",
   "nbconvert_exporter": "python",
   "pygments_lexer": "ipython3",
   "version": "3.8.2-final"
  },
  "orig_nbformat": 2,
  "kernelspec": {
   "name": "python3",
   "display_name": "Python 3"
  }
 },
 "nbformat": 4,
 "nbformat_minor": 2,
 "cells": [
  {
   "cell_type": "code",
   "execution_count": 1,
   "metadata": {},
   "outputs": [],
   "source": [
    "from sympy import *"
   ]
  },
  {
   "cell_type": "code",
   "execution_count": 2,
   "metadata": {},
   "outputs": [],
   "source": [
    "x,y,z = symbols('x y z')"
   ]
  },
  {
   "cell_type": "code",
   "execution_count": 3,
   "metadata": {},
   "outputs": [
    {
     "output_type": "execute_result",
     "data": {
      "text/plain": [
       "\"Add(Pow(Symbol('x'), Integer(2)), Mul(Symbol('x'), Symbol('y')))\""
      ]
     },
     "metadata": {},
     "execution_count": 3
    }
   ],
   "source": [
    "expr = x**2 + x*y\n",
    "srepr(expr)"
   ]
  },
  {
   "cell_type": "code",
   "execution_count": 4,
   "metadata": {},
   "outputs": [
    {
     "output_type": "execute_result",
     "data": {
      "text/plain": [
       "'x**2 + x*y'"
      ]
     },
     "metadata": {},
     "execution_count": 4
    }
   ],
   "source": [
    "repr(expr)"
   ]
  },
  {
   "cell_type": "code",
   "execution_count": 5,
   "metadata": {},
   "outputs": [
    {
     "output_type": "execute_result",
     "data": {
      "text/plain": [
       "x**2 + x*y"
      ],
      "text/latex": "$\\displaystyle x^{2} + x y$"
     },
     "metadata": {},
     "execution_count": 5
    }
   ],
   "source": [
    "expr"
   ]
  },
  {
   "source": [
    "Func"
   ],
   "cell_type": "markdown",
   "metadata": {}
  },
  {
   "cell_type": "code",
   "execution_count": 7,
   "metadata": {},
   "outputs": [
    {
     "output_type": "execute_result",
     "data": {
      "text/plain": [
       "sympy.core.mul.Mul"
      ]
     },
     "metadata": {},
     "execution_count": 7
    }
   ],
   "source": [
    "# func is the head of the function that is there\n",
    "expr = Add(x,x)\n",
    "expr.func"
   ]
  },
  {
   "source": [
    "Args"
   ],
   "cell_type": "markdown",
   "metadata": {}
  },
  {
   "cell_type": "code",
   "execution_count": 9,
   "metadata": {},
   "outputs": [],
   "source": [
    "# Arguments that made up the function\n",
    "expr = 3*y*(x**2)"
   ]
  },
  {
   "cell_type": "code",
   "execution_count": 10,
   "metadata": {},
   "outputs": [
    {
     "output_type": "execute_result",
     "data": {
      "text/plain": [
       "(3, y, x**2)"
      ]
     },
     "metadata": {},
     "execution_count": 10
    }
   ],
   "source": [
    "expr.args"
   ]
  },
  {
   "cell_type": "code",
   "execution_count": 20,
   "metadata": {},
   "outputs": [],
   "source": [
    "exp = x**2 + 3*y*(x**2)"
   ]
  },
  {
   "cell_type": "code",
   "execution_count": 21,
   "metadata": {},
   "outputs": [
    {
     "output_type": "execute_result",
     "data": {
      "text/plain": [
       "(x**2, 3*x**2*y)"
      ]
     },
     "metadata": {},
     "execution_count": 21
    }
   ],
   "source": [
    "exp.args"
   ]
  },
  {
   "cell_type": "code",
   "execution_count": 33,
   "metadata": {},
   "outputs": [
    {
     "output_type": "execute_result",
     "data": {
      "text/plain": [
       "\"Add(Mul(Integer(3), Pow(Symbol('x'), Integer(2)), Symbol('y')), Pow(Symbol('x'), Integer(2)))\""
      ]
     },
     "metadata": {},
     "execution_count": 33
    }
   ],
   "source": [
    "srepr(exp)"
   ]
  },
  {
   "cell_type": "code",
   "execution_count": null,
   "metadata": {},
   "outputs": [],
   "source": []
  }
 ]
}