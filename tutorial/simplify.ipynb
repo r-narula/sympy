{
 "metadata": {
  "language_info": {
   "codemirror_mode": {
    "name": "ipython",
    "version": 3
   },
   "file_extension": ".py",
   "mimetype": "text/x-python",
   "name": "python",
   "nbconvert_exporter": "python",
   "pygments_lexer": "ipython3",
   "version": "3.8.2-final"
  },
  "orig_nbformat": 2,
  "kernelspec": {
   "name": "python3",
   "display_name": "Python 3"
  }
 },
 "nbformat": 4,
 "nbformat_minor": 2,
 "cells": [
  {
   "cell_type": "code",
   "execution_count": 1,
   "metadata": {},
   "outputs": [],
   "source": [
    "from sympy import *\n",
    "x, y, z = symbols('x y z')\n"
   ]
  },
  {
   "cell_type": "code",
   "execution_count": 2,
   "metadata": {},
   "outputs": [
    {
     "output_type": "execute_result",
     "data": {
      "text/plain": [
       "1"
      ],
      "text/latex": "$\\displaystyle 1$"
     },
     "metadata": {},
     "execution_count": 2
    }
   ],
   "source": [
    "simplify(sin(x)**2+cos(x)**2)"
   ]
  },
  {
   "cell_type": "code",
   "execution_count": 4,
   "metadata": {},
   "outputs": [
    {
     "output_type": "execute_result",
     "data": {
      "text/plain": [
       "x - 1"
      ],
      "text/latex": "$\\displaystyle x - 1$"
     },
     "metadata": {},
     "execution_count": 4
    }
   ],
   "source": [
    "simplify((x**3 + x**2 - x - 1)/(x**2 + 2*x + 1))"
   ]
  },
  {
   "cell_type": "code",
   "execution_count": 14,
   "metadata": {},
   "outputs": [],
   "source": [
    "# the simplify function is for the above and simple things. \n",
    "# it is also not very fast as it looks to compute the best result\n",
    "\n",
    "# hence we try to use the more closed bounded simplifiers .."
   ]
  },
  {
   "source": [
    "## expand"
   ],
   "cell_type": "markdown",
   "metadata": {}
  },
  {
   "cell_type": "code",
   "execution_count": 7,
   "metadata": {},
   "outputs": [
    {
     "output_type": "execute_result",
     "data": {
      "text/plain": [
       "x**2 + 2*x + 1"
      ],
      "text/latex": "$\\displaystyle x^{2} + 2 x + 1$"
     },
     "metadata": {},
     "execution_count": 7
    }
   ],
   "source": [
    "expand((x+1)**2)"
   ]
  },
  {
   "cell_type": "code",
   "execution_count": 13,
   "metadata": {},
   "outputs": [
    {
     "output_type": "execute_result",
     "data": {
      "text/plain": [
       "-2"
      ],
      "text/latex": "$\\displaystyle -2$"
     },
     "metadata": {},
     "execution_count": 13
    }
   ],
   "source": [
    "expand((x+1)*(x-2)) - expand((x-1)*x)"
   ]
  },
  {
   "source": [
    "## Factor\n",
    "makes into the factors of the irreducible form"
   ],
   "cell_type": "markdown",
   "metadata": {}
  },
  {
   "cell_type": "code",
   "execution_count": 19,
   "metadata": {},
   "outputs": [
    {
     "output_type": "execute_result",
     "data": {
      "text/plain": [
       "(x - 1)*(x**2 + 1)"
      ],
      "text/latex": "$\\displaystyle \\left(x - 1\\right) \\left(x^{2} + 1\\right)$"
     },
     "metadata": {},
     "execution_count": 19
    }
   ],
   "source": [
    "factor(x**3 - x**2 + x - 1)"
   ]
  },
  {
   "cell_type": "code",
   "execution_count": 20,
   "metadata": {},
   "outputs": [
    {
     "output_type": "execute_result",
     "data": {
      "text/plain": [
       "(1, [(x - 1, 1), (x**2 + 1, 1)])"
      ]
     },
     "metadata": {},
     "execution_count": 20
    }
   ],
   "source": [
    "factor_list(x**3 - x**2 + x - 1)"
   ]
  },
  {
   "cell_type": "code",
   "execution_count": 23,
   "metadata": {},
   "outputs": [
    {
     "output_type": "execute_result",
     "data": {
      "text/plain": [
       "sin(x)**2 + 2*sin(x)*cos(x) + cos(x)**2"
      ],
      "text/latex": "$\\displaystyle \\sin^{2}{\\left(x \\right)} + 2 \\sin{\\left(x \\right)} \\cos{\\left(x \\right)} + \\cos^{2}{\\left(x \\right)}$"
     },
     "metadata": {},
     "execution_count": 23
    }
   ],
   "source": [
    "expand(expand((cos(x) + sin(x))**2))"
   ]
  },
  {
   "cell_type": "code",
   "execution_count": 24,
   "metadata": {},
   "outputs": [
    {
     "output_type": "execute_result",
     "data": {
      "text/plain": [
       "(sin(x) + cos(x))**2"
      ],
      "text/latex": "$\\displaystyle \\left(\\sin{\\left(x \\right)} + \\cos{\\left(x \\right)}\\right)^{2}$"
     },
     "metadata": {},
     "execution_count": 24
    }
   ],
   "source": [
    "factor(cos(x)**2 + 2*cos(x)*sin(x) + sin(x)**2)"
   ]
  },
  {
   "source": [
    "## Collect"
   ],
   "cell_type": "markdown",
   "metadata": {}
  },
  {
   "cell_type": "code",
   "execution_count": 25,
   "metadata": {},
   "outputs": [
    {
     "output_type": "execute_result",
     "data": {
      "text/plain": [
       "x**3 - x**2*z + 2*x**2 + x*y + x - 3"
      ],
      "text/latex": "$\\displaystyle x^{3} - x^{2} z + 2 x^{2} + x y + x - 3$"
     },
     "metadata": {},
     "execution_count": 25
    }
   ],
   "source": [
    "expr = x*y + x - 3 + 2*x**2 - z*x**2 + x**3\n",
    "expr"
   ]
  },
  {
   "cell_type": "code",
   "execution_count": 26,
   "metadata": {},
   "outputs": [],
   "source": [
    "collected_expr = collect(expr,x) # collect collects the common POWERS"
   ]
  },
  {
   "cell_type": "code",
   "execution_count": 27,
   "metadata": {},
   "outputs": [
    {
     "output_type": "execute_result",
     "data": {
      "text/plain": [
       "x**3 + x**2*(2 - z) + x*(y + 1) - 3"
      ],
      "text/latex": "$\\displaystyle x^{3} + x^{2} \\left(2 - z\\right) + x \\left(y + 1\\right) - 3$"
     },
     "metadata": {},
     "execution_count": 27
    }
   ],
   "source": [
    "collected_expr"
   ]
  },
  {
   "cell_type": "code",
   "execution_count": 37,
   "metadata": {},
   "outputs": [
    {
     "output_type": "execute_result",
     "data": {
      "text/plain": [
       "y + 1"
      ],
      "text/latex": "$\\displaystyle y + 1$"
     },
     "metadata": {},
     "execution_count": 37
    }
   ],
   "source": [
    "collected_expr.coeff(x)"
   ]
  },
  {
   "source": [
    "## Cancel\n",
    "\n",
    "cancel() will simplify the fraction .. 8/6 becomes 4/3 type of."
   ],
   "cell_type": "markdown",
   "metadata": {}
  },
  {
   "cell_type": "code",
   "execution_count": 43,
   "metadata": {},
   "outputs": [
    {
     "output_type": "execute_result",
     "data": {
      "text/plain": [
       "(x + 1)/x"
      ],
      "text/latex": "$\\displaystyle \\frac{x + 1}{x}$"
     },
     "metadata": {},
     "execution_count": 43
    }
   ],
   "source": [
    "cancel(((x**2)+(2*x)+1)/(x**2+x))"
   ]
  },
  {
   "cell_type": "code",
   "execution_count": 44,
   "metadata": {},
   "outputs": [],
   "source": [
    "expr = 1/x + (3*x/2 - 2)/(x-4)"
   ]
  },
  {
   "cell_type": "code",
   "execution_count": 47,
   "metadata": {},
   "outputs": [
    {
     "output_type": "execute_result",
     "data": {
      "text/plain": [
       "(3*x/2 - 2)/(x - 4) + 1/x"
      ],
      "text/latex": "$\\displaystyle \\frac{\\frac{3 x}{2} - 2}{x - 4} + \\frac{1}{x}$"
     },
     "metadata": {},
     "execution_count": 47
    }
   ],
   "source": [
    "expr"
   ]
  },
  {
   "cell_type": "code",
   "execution_count": 49,
   "metadata": {},
   "outputs": [
    {
     "output_type": "execute_result",
     "data": {
      "text/plain": [
       "(3*x**2 - 2*x - 8)/(2*x**2 - 8*x)"
      ],
      "text/latex": "$\\displaystyle \\frac{3 x^{2} - 2 x - 8}{2 x^{2} - 8 x}$"
     },
     "metadata": {},
     "execution_count": 49
    }
   ],
   "source": [
    "cancel(expr)"
   ]
  },
  {
   "cell_type": "code",
   "execution_count": 50,
   "metadata": {},
   "outputs": [
    {
     "output_type": "execute_result",
     "data": {
      "text/plain": [
       "(x - 2)*(3*x + 4)"
      ],
      "text/latex": "$\\displaystyle \\left(x - 2\\right) \\left(3 x + 4\\right)$"
     },
     "metadata": {},
     "execution_count": 50
    }
   ],
   "source": [
    "factor((3*(x**2))-(2*x)-8) # checking if above is correct or not"
   ]
  },
  {
   "cell_type": "code",
   "execution_count": 52,
   "metadata": {},
   "outputs": [
    {
     "output_type": "execute_result",
     "data": {
      "text/plain": [
       "2*x*(x - 4)"
      ],
      "text/latex": "$\\displaystyle 2 x \\left(x - 4\\right)$"
     },
     "metadata": {},
     "execution_count": 52
    }
   ],
   "source": [
    "factor(2*x**2 - 8*x)"
   ]
  },
  {
   "source": [
    "## Partial fraction decomposition\n",
    "\n",
    "what is it?\n",
    "\n",
    "expressing the polynomial fraction as the fractions\n"
   ],
   "cell_type": "markdown",
   "metadata": {}
  },
  {
   "cell_type": "code",
   "execution_count": 54,
   "metadata": {},
   "outputs": [
    {
     "output_type": "execute_result",
     "data": {
      "text/plain": [
       "(4*x**3 + 21*x**2 + 10*x + 12)/(x**4 + 5*x**3 + 5*x**2 + 4*x)"
      ],
      "text/latex": "$\\displaystyle \\frac{4 x^{3} + 21 x^{2} + 10 x + 12}{x^{4} + 5 x^{3} + 5 x^{2} + 4 x}$"
     },
     "metadata": {},
     "execution_count": 54
    }
   ],
   "source": [
    "expr = (4*x**3 + 21*x**2 + 10*x + 12)/(x**4 + 5*x**3 + 5*x**2 + 4*x)\n",
    "expr"
   ]
  },
  {
   "cell_type": "code",
   "execution_count": 56,
   "metadata": {},
   "outputs": [
    {
     "output_type": "execute_result",
     "data": {
      "text/plain": [
       "(2*x - 1)/(x**2 + x + 1) - 1/(x + 4) + 3/x"
      ],
      "text/latex": "$\\displaystyle \\frac{2 x - 1}{x^{2} + x + 1} - \\frac{1}{x + 4} + \\frac{3}{x}$"
     },
     "metadata": {},
     "execution_count": 56
    }
   ],
   "source": [
    "apart(expr)"
   ]
  },
  {
   "source": [
    "## trignometric Simplifications"
   ],
   "cell_type": "markdown",
   "metadata": {}
  },
  {
   "cell_type": "code",
   "execution_count": 58,
   "metadata": {},
   "outputs": [
    {
     "output_type": "execute_result",
     "data": {
      "text/plain": [
       "1"
      ],
      "text/latex": "$\\displaystyle 1$"
     },
     "metadata": {},
     "execution_count": 58
    }
   ],
   "source": [
    "trigsimp(sin(x)**2 + cos(x)**2) # it will use all the trigonometry u would                                          also not even know.."
   ]
  },
  {
   "cell_type": "code",
   "execution_count": 59,
   "metadata": {},
   "outputs": [],
   "source": [
    "# expand the trigonometry "
   ]
  },
  {
   "cell_type": "code",
   "execution_count": 60,
   "metadata": {},
   "outputs": [
    {
     "output_type": "execute_result",
     "data": {
      "text/plain": [
       "sin(x)*cos(y) + sin(y)*cos(x)"
      ],
      "text/latex": "$\\displaystyle \\sin{\\left(x \\right)} \\cos{\\left(y \\right)} + \\sin{\\left(y \\right)} \\cos{\\left(x \\right)}$"
     },
     "metadata": {},
     "execution_count": 60
    }
   ],
   "source": [
    "expand_trig(sin(x+y)) # for example the sum and double angle "
   ]
  },
  {
   "cell_type": "code",
   "execution_count": 61,
   "metadata": {},
   "outputs": [],
   "source": [
    "###########################################################################"
   ]
  },
  {
   "source": [
    "## Key points in exponents simplification"
   ],
   "cell_type": "markdown",
   "metadata": {}
  },
  {
   "cell_type": "code",
   "execution_count": 65,
   "metadata": {},
   "outputs": [],
   "source": [
    "#By default, SymPy Symbols are assumed to be complex (elements of C). That is, a simplification will not be applied to an expression with a given Symbol unless it holds for all complex numbers."
   ]
  },
  {
   "cell_type": "code",
   "execution_count": 66,
   "metadata": {},
   "outputs": [],
   "source": [
    "#Symbols can be given different assumptions by passing the assumption to symbols(). For the rest of this section, we will be assuming that x and y are positive, and that a and b are real. We will leave z, t, and c as arbitrary complex Symbols to demonstrate what happens in that case."
   ]
  },
  {
   "source": [
    "powsimp"
   ],
   "cell_type": "markdown",
   "metadata": {}
  },
  {
   "cell_type": "code",
   "execution_count": 73,
   "metadata": {},
   "outputs": [],
   "source": [
    "x,y = symbols('x y',positive=True)\n",
    "a,b = symbols('a b',real=True)\n",
    "z,t = symbols('z t')"
   ]
  },
  {
   "cell_type": "code",
   "execution_count": 69,
   "metadata": {},
   "outputs": [
    {
     "output_type": "execute_result",
     "data": {
      "text/plain": [
       "(x*y)**a"
      ],
      "text/latex": "$\\displaystyle \\left(x y\\right)^{a}$"
     },
     "metadata": {},
     "execution_count": 69
    }
   ],
   "source": [
    "powsimp(x**a*y**a)"
   ]
  },
  {
   "cell_type": "code",
   "execution_count": 71,
   "metadata": {},
   "outputs": [
    {
     "output_type": "execute_result",
     "data": {
      "text/plain": [
       "x**a*y**b"
      ],
      "text/latex": "$\\displaystyle x^{a} y^{b}$"
     },
     "metadata": {},
     "execution_count": 71
    }
   ],
   "source": [
    "powsimp(x**a*y**b)"
   ]
  },
  {
   "cell_type": "code",
   "execution_count": 75,
   "metadata": {},
   "outputs": [
    {
     "output_type": "execute_result",
     "data": {
      "text/plain": [
       "t**a*z**a"
      ],
      "text/latex": "$\\displaystyle t^{a} z^{a}$"
     },
     "metadata": {},
     "execution_count": 75
    }
   ],
   "source": [
    "powsimp(z**a*t**a)    # as this case is not valid in some situations hence we would not be able to simplify it."
   ]
  },
  {
   "cell_type": "code",
   "execution_count": 78,
   "metadata": {},
   "outputs": [
    {
     "output_type": "execute_result",
     "data": {
      "text/plain": [
       "(t*z)**a"
      ],
      "text/latex": "$\\displaystyle \\left(t z\\right)^{a}$"
     },
     "metadata": {},
     "execution_count": 78
    }
   ],
   "source": [
    "powsimp(z**a*t**a,force=True) # do it man"
   ]
  },
  {
   "source": [
    "expand power base (right to left it moves)"
   ],
   "cell_type": "markdown",
   "metadata": {}
  },
  {
   "cell_type": "code",
   "execution_count": 84,
   "metadata": {},
   "outputs": [
    {
     "output_type": "execute_result",
     "data": {
      "text/plain": [
       "(t*z)**b"
      ],
      "text/latex": "$\\displaystyle \\left(t z\\right)^{b}$"
     },
     "metadata": {},
     "execution_count": 84
    }
   ],
   "source": [
    "expand_power_base((z*t)**b)"
   ]
  },
  {
   "cell_type": "code",
   "execution_count": 85,
   "metadata": {},
   "outputs": [
    {
     "output_type": "execute_result",
     "data": {
      "text/plain": [
       "t**b*z**b"
      ],
      "text/latex": "$\\displaystyle t^{b} z^{b}$"
     },
     "metadata": {},
     "execution_count": 85
    }
   ],
   "source": [
    "expand_power_base((z*t)**b, force=True)"
   ]
  },
  {
   "cell_type": "code",
   "execution_count": 87,
   "metadata": {},
   "outputs": [
    {
     "output_type": "execute_result",
     "data": {
      "text/plain": [
       "x**b*y**b"
      ],
      "text/latex": "$\\displaystyle x^{b} y^{b}$"
     },
     "metadata": {},
     "execution_count": 87
    }
   ],
   "source": [
    "expand_power_base((x*y)**b)"
   ]
  },
  {
   "source": [
    "powdenest"
   ],
   "cell_type": "markdown",
   "metadata": {}
  },
  {
   "source": [
    "## Exponentials And Logs"
   ],
   "cell_type": "markdown",
   "metadata": {}
  },
  {
   "cell_type": "code",
   "execution_count": 88,
   "metadata": {},
   "outputs": [],
   "source": [
    "# just like exponents logs have the same problem that none of them is always true."
   ]
  },
  {
   "cell_type": "code",
   "execution_count": 90,
   "metadata": {},
   "outputs": [
    {
     "output_type": "execute_result",
     "data": {
      "text/plain": [
       "log(x) + log(y)"
      ],
      "text/latex": "$\\displaystyle \\log{\\left(x \\right)} + \\log{\\left(y \\right)}$"
     },
     "metadata": {},
     "execution_count": 90
    }
   ],
   "source": [
    "expand_log(log(x*y))"
   ]
  },
  {
   "cell_type": "code",
   "execution_count": 95,
   "metadata": {},
   "outputs": [
    {
     "output_type": "execute_result",
     "data": {
      "text/plain": [
       "log(t) + log(z)"
      ],
      "text/latex": "$\\displaystyle \\log{\\left(t \\right)} + \\log{\\left(z \\right)}$"
     },
     "metadata": {},
     "execution_count": 95
    }
   ],
   "source": [
    "expand_log(log(z*t),force=True)"
   ]
  },
  {
   "cell_type": "code",
   "execution_count": 96,
   "metadata": {},
   "outputs": [
    {
     "output_type": "execute_result",
     "data": {
      "text/plain": [
       "log(x*y)"
      ],
      "text/latex": "$\\displaystyle \\log{\\left(x y \\right)}$"
     },
     "metadata": {},
     "execution_count": 96
    }
   ],
   "source": [
    "logcombine(log(x)+log(y))"
   ]
  },
  {
   "source": [
    "# SPECIAL FUNCTIONS"
   ],
   "cell_type": "markdown",
   "metadata": {}
  },
  {
   "source": [
    "Will Read about in the Functions section. I don't find that very interesting to cover in the tutorial."
   ],
   "cell_type": "markdown",
   "metadata": {}
  },
  {
   "source": [
    "# Continued functions"
   ],
   "cell_type": "markdown",
   "metadata": {}
  },
  {
   "cell_type": "code",
   "execution_count": 108,
   "metadata": {},
   "outputs": [],
   "source": [
    "def list_to_frac(l):\n",
    "    expr = Integer(0) # converts the floating to the interger values\n",
    "    for i in reversed(l[1:]):\n",
    "        expr += i\n",
    "        expr = 1/expr\n",
    "    return l[0] + expr\n"
   ]
  },
  {
   "cell_type": "code",
   "execution_count": 101,
   "metadata": {},
   "outputs": [
    {
     "output_type": "execute_result",
     "data": {
      "text/plain": [
       "a + 1/(b + 1/(c + 1/(d + 1/(e + 1/f))))"
      ],
      "text/latex": "$\\displaystyle a + \\frac{1}{b + \\frac{1}{c + \\frac{1}{d + \\frac{1}{e + \\frac{1}{f}}}}}$"
     },
     "metadata": {},
     "execution_count": 101
    }
   ],
   "source": [
    "a,b,c,d,e,f = symbols('a b c d e f')\n",
    "list_to_frac([a,b,c,d,e,f])"
   ]
  },
  {
   "cell_type": "code",
   "execution_count": 110,
   "metadata": {},
   "outputs": [
    {
     "output_type": "execute_result",
     "data": {
      "text/plain": [
       "3"
      ],
      "text/latex": "$\\displaystyle 3$"
     },
     "metadata": {},
     "execution_count": 110
    }
   ],
   "source": [
    "list_to_frac([3])"
   ]
  },
  {
   "cell_type": "code",
   "execution_count": null,
   "metadata": {},
   "outputs": [],
   "source": []
  }
 ]
}